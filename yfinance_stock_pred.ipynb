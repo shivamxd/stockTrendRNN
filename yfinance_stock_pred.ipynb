{
  "nbformat": 4,
  "nbformat_minor": 0,
  "metadata": {
    "colab": {
      "provenance": []
    },
    "kernelspec": {
      "name": "python3",
      "display_name": "Python 3"
    },
    "language_info": {
      "name": "python"
    }
  },
  "cells": [
    {
      "cell_type": "code",
      "execution_count": null,
      "metadata": {
        "colab": {
          "base_uri": "https://localhost:8080/"
        },
        "id": "yY7l0cLGVxTR",
        "outputId": "5ddc2432-3f9b-412a-9928-3308f0ce4ea2"
      },
      "outputs": [
        {
          "output_type": "stream",
          "name": "stdout",
          "text": [
            "Requirement already satisfied: yfinance in /usr/local/lib/python3.10/dist-packages (0.2.38)\n",
            "Requirement already satisfied: pandas>=1.3.0 in /usr/local/lib/python3.10/dist-packages (from yfinance) (2.0.3)\n",
            "Requirement already satisfied: numpy>=1.16.5 in /usr/local/lib/python3.10/dist-packages (from yfinance) (1.25.2)\n",
            "Requirement already satisfied: requests>=2.31 in /usr/local/lib/python3.10/dist-packages (from yfinance) (2.31.0)\n",
            "Requirement already satisfied: multitasking>=0.0.7 in /usr/local/lib/python3.10/dist-packages (from yfinance) (0.0.11)\n",
            "Requirement already satisfied: lxml>=4.9.1 in /usr/local/lib/python3.10/dist-packages (from yfinance) (4.9.4)\n",
            "Requirement already satisfied: appdirs>=1.4.4 in /usr/local/lib/python3.10/dist-packages (from yfinance) (1.4.4)\n",
            "Requirement already satisfied: pytz>=2022.5 in /usr/local/lib/python3.10/dist-packages (from yfinance) (2023.4)\n",
            "Requirement already satisfied: frozendict>=2.3.4 in /usr/local/lib/python3.10/dist-packages (from yfinance) (2.4.2)\n",
            "Requirement already satisfied: peewee>=3.16.2 in /usr/local/lib/python3.10/dist-packages (from yfinance) (3.17.3)\n",
            "Requirement already satisfied: beautifulsoup4>=4.11.1 in /usr/local/lib/python3.10/dist-packages (from yfinance) (4.12.3)\n",
            "Requirement already satisfied: html5lib>=1.1 in /usr/local/lib/python3.10/dist-packages (from yfinance) (1.1)\n",
            "Requirement already satisfied: soupsieve>1.2 in /usr/local/lib/python3.10/dist-packages (from beautifulsoup4>=4.11.1->yfinance) (2.5)\n",
            "Requirement already satisfied: six>=1.9 in /usr/local/lib/python3.10/dist-packages (from html5lib>=1.1->yfinance) (1.16.0)\n",
            "Requirement already satisfied: webencodings in /usr/local/lib/python3.10/dist-packages (from html5lib>=1.1->yfinance) (0.5.1)\n",
            "Requirement already satisfied: python-dateutil>=2.8.2 in /usr/local/lib/python3.10/dist-packages (from pandas>=1.3.0->yfinance) (2.8.2)\n",
            "Requirement already satisfied: tzdata>=2022.1 in /usr/local/lib/python3.10/dist-packages (from pandas>=1.3.0->yfinance) (2024.1)\n",
            "Requirement already satisfied: charset-normalizer<4,>=2 in /usr/local/lib/python3.10/dist-packages (from requests>=2.31->yfinance) (3.3.2)\n",
            "Requirement already satisfied: idna<4,>=2.5 in /usr/local/lib/python3.10/dist-packages (from requests>=2.31->yfinance) (3.7)\n",
            "Requirement already satisfied: urllib3<3,>=1.21.1 in /usr/local/lib/python3.10/dist-packages (from requests>=2.31->yfinance) (2.0.7)\n",
            "Requirement already satisfied: certifi>=2017.4.17 in /usr/local/lib/python3.10/dist-packages (from requests>=2.31->yfinance) (2024.2.2)\n"
          ]
        }
      ],
      "source": [
        "!pip install yfinance"
      ]
    },
    {
      "cell_type": "code",
      "source": [
        "import yfinance as yf"
      ],
      "metadata": {
        "id": "VB6aHD3yWDF_"
      },
      "execution_count": null,
      "outputs": []
    },
    {
      "cell_type": "code",
      "source": [
        "stock_ticker = 'RELIANCE.NS'"
      ],
      "metadata": {
        "id": "Je5J8heZZtP9"
      },
      "execution_count": null,
      "outputs": []
    },
    {
      "cell_type": "code",
      "source": [
        "start_year = '2012'\n",
        "start_month = '01'\n",
        "start_day = '01'\n",
        "\n",
        "end_year = '2024'\n",
        "end_month = '03'\n",
        "end_day = '24'"
      ],
      "metadata": {
        "id": "Rpbsqws3Y1V3"
      },
      "execution_count": null,
      "outputs": []
    },
    {
      "cell_type": "code",
      "source": [
        "start_date = start_year + '-' + start_month + '-' + start_day\n",
        "end_date = end_year + '-' + end_month + '-' + end_day"
      ],
      "metadata": {
        "id": "BHroqP4_ZThK"
      },
      "execution_count": null,
      "outputs": []
    },
    {
      "cell_type": "code",
      "source": [
        "start_date"
      ],
      "metadata": {
        "colab": {
          "base_uri": "https://localhost:8080/",
          "height": 35
        },
        "id": "J5TPIm0kZgDm",
        "outputId": "8d82cc0f-a87e-40c9-986e-709288629bae"
      },
      "execution_count": null,
      "outputs": [
        {
          "output_type": "execute_result",
          "data": {
            "text/plain": [
              "'2012-01-01'"
            ],
            "application/vnd.google.colaboratory.intrinsic+json": {
              "type": "string"
            }
          },
          "metadata": {},
          "execution_count": 14
        }
      ]
    },
    {
      "cell_type": "code",
      "source": [
        "end_date"
      ],
      "metadata": {
        "colab": {
          "base_uri": "https://localhost:8080/",
          "height": 35
        },
        "id": "DetBWjpwZkRr",
        "outputId": "b0fa4052-5032-4564-8bd7-c5b65830ade1"
      },
      "execution_count": null,
      "outputs": [
        {
          "output_type": "execute_result",
          "data": {
            "text/plain": [
              "'2024-03-24'"
            ],
            "application/vnd.google.colaboratory.intrinsic+json": {
              "type": "string"
            }
          },
          "metadata": {},
          "execution_count": 15
        }
      ]
    },
    {
      "cell_type": "code",
      "source": [
        "import numpy as np\n",
        "import matplotlib.pyplot as plt\n",
        "import pandas as pd"
      ],
      "metadata": {
        "id": "qQTvgZptW2Ys"
      },
      "execution_count": null,
      "outputs": []
    },
    {
      "cell_type": "code",
      "source": [
        "num_day_to_predict = 30\n",
        "num_epochs = 100"
      ],
      "metadata": {
        "id": "PXDooaK8XmpV"
      },
      "execution_count": null,
      "outputs": []
    },
    {
      "cell_type": "code",
      "source": [
        "data = yf.download(stock_ticker,start_date,end_date)\n",
        "#msft = yf.Ticker(\"MSFT\")\n",
        "#hist = msft.history(period=\"20mo\")"
      ],
      "metadata": {
        "colab": {
          "base_uri": "https://localhost:8080/"
        },
        "id": "SdYbOsa7V32p",
        "outputId": "3350d8b3-c793-4d7f-9ca5-723bda034b28"
      },
      "execution_count": null,
      "outputs": [
        {
          "output_type": "stream",
          "name": "stderr",
          "text": [
            "\r[*********************100%%**********************]  1 of 1 completed\n"
          ]
        }
      ]
    },
    {
      "cell_type": "code",
      "source": [
        "#hist"
      ],
      "metadata": {
        "id": "aUT05etCzVTq"
      },
      "execution_count": null,
      "outputs": []
    },
    {
      "cell_type": "code",
      "source": [
        "#len(hist)"
      ],
      "metadata": {
        "id": "NBT8dvdzzZFr"
      },
      "execution_count": null,
      "outputs": []
    },
    {
      "cell_type": "code",
      "source": [
        "data"
      ],
      "metadata": {
        "colab": {
          "base_uri": "https://localhost:8080/",
          "height": 455
        },
        "id": "XLS4mYM-WnWX",
        "outputId": "7e773fc3-aee6-4563-b990-0e224b493a59"
      },
      "execution_count": null,
      "outputs": [
        {
          "output_type": "execute_result",
          "data": {
            "text/plain": [
              "                   Open         High          Low        Close    Adj Close  \\\n",
              "Date                                                                          \n",
              "2012-01-02   318.553528   324.473816   314.141876   323.010895   294.166168   \n",
              "2012-01-03   325.616730   332.314240   324.748108   331.285614   301.701996   \n",
              "2012-01-04   332.542816   334.165741   326.119629   327.399689   298.163116   \n",
              "2012-01-05   326.873932   331.422760   317.319153   319.787872   291.230957   \n",
              "2012-01-06   318.667816   330.988434   318.484955   328.039734   298.745911   \n",
              "...                 ...          ...          ...          ...          ...   \n",
              "2024-03-18  2840.000000  2883.449951  2833.050049  2878.949951  2878.949951   \n",
              "2024-03-19  2857.500000  2875.199951  2834.500000  2850.500000  2850.500000   \n",
              "2024-03-20  2855.899902  2890.000000  2848.050049  2887.500000  2887.500000   \n",
              "2024-03-21  2905.050049  2915.800049  2889.350098  2901.949951  2901.949951   \n",
              "2024-03-22  2899.949951  2920.000000  2894.699951  2910.050049  2910.050049   \n",
              "\n",
              "              Volume  \n",
              "Date                  \n",
              "2012-01-02   9404053  \n",
              "2012-01-03  10244609  \n",
              "2012-01-04   9270951  \n",
              "2012-01-05  14479600  \n",
              "2012-01-06  10287605  \n",
              "...              ...  \n",
              "2024-03-18   4584696  \n",
              "2024-03-19   4137882  \n",
              "2024-03-20   4244403  \n",
              "2024-03-21   6503468  \n",
              "2024-03-22   9763804  \n",
              "\n",
              "[3015 rows x 6 columns]"
            ],
            "text/html": [
              "\n",
              "  <div id=\"df-54d66768-d543-4db8-9dcc-c1acd2c8157f\" class=\"colab-df-container\">\n",
              "    <div>\n",
              "<style scoped>\n",
              "    .dataframe tbody tr th:only-of-type {\n",
              "        vertical-align: middle;\n",
              "    }\n",
              "\n",
              "    .dataframe tbody tr th {\n",
              "        vertical-align: top;\n",
              "    }\n",
              "\n",
              "    .dataframe thead th {\n",
              "        text-align: right;\n",
              "    }\n",
              "</style>\n",
              "<table border=\"1\" class=\"dataframe\">\n",
              "  <thead>\n",
              "    <tr style=\"text-align: right;\">\n",
              "      <th></th>\n",
              "      <th>Open</th>\n",
              "      <th>High</th>\n",
              "      <th>Low</th>\n",
              "      <th>Close</th>\n",
              "      <th>Adj Close</th>\n",
              "      <th>Volume</th>\n",
              "    </tr>\n",
              "    <tr>\n",
              "      <th>Date</th>\n",
              "      <th></th>\n",
              "      <th></th>\n",
              "      <th></th>\n",
              "      <th></th>\n",
              "      <th></th>\n",
              "      <th></th>\n",
              "    </tr>\n",
              "  </thead>\n",
              "  <tbody>\n",
              "    <tr>\n",
              "      <th>2012-01-02</th>\n",
              "      <td>318.553528</td>\n",
              "      <td>324.473816</td>\n",
              "      <td>314.141876</td>\n",
              "      <td>323.010895</td>\n",
              "      <td>294.166168</td>\n",
              "      <td>9404053</td>\n",
              "    </tr>\n",
              "    <tr>\n",
              "      <th>2012-01-03</th>\n",
              "      <td>325.616730</td>\n",
              "      <td>332.314240</td>\n",
              "      <td>324.748108</td>\n",
              "      <td>331.285614</td>\n",
              "      <td>301.701996</td>\n",
              "      <td>10244609</td>\n",
              "    </tr>\n",
              "    <tr>\n",
              "      <th>2012-01-04</th>\n",
              "      <td>332.542816</td>\n",
              "      <td>334.165741</td>\n",
              "      <td>326.119629</td>\n",
              "      <td>327.399689</td>\n",
              "      <td>298.163116</td>\n",
              "      <td>9270951</td>\n",
              "    </tr>\n",
              "    <tr>\n",
              "      <th>2012-01-05</th>\n",
              "      <td>326.873932</td>\n",
              "      <td>331.422760</td>\n",
              "      <td>317.319153</td>\n",
              "      <td>319.787872</td>\n",
              "      <td>291.230957</td>\n",
              "      <td>14479600</td>\n",
              "    </tr>\n",
              "    <tr>\n",
              "      <th>2012-01-06</th>\n",
              "      <td>318.667816</td>\n",
              "      <td>330.988434</td>\n",
              "      <td>318.484955</td>\n",
              "      <td>328.039734</td>\n",
              "      <td>298.745911</td>\n",
              "      <td>10287605</td>\n",
              "    </tr>\n",
              "    <tr>\n",
              "      <th>...</th>\n",
              "      <td>...</td>\n",
              "      <td>...</td>\n",
              "      <td>...</td>\n",
              "      <td>...</td>\n",
              "      <td>...</td>\n",
              "      <td>...</td>\n",
              "    </tr>\n",
              "    <tr>\n",
              "      <th>2024-03-18</th>\n",
              "      <td>2840.000000</td>\n",
              "      <td>2883.449951</td>\n",
              "      <td>2833.050049</td>\n",
              "      <td>2878.949951</td>\n",
              "      <td>2878.949951</td>\n",
              "      <td>4584696</td>\n",
              "    </tr>\n",
              "    <tr>\n",
              "      <th>2024-03-19</th>\n",
              "      <td>2857.500000</td>\n",
              "      <td>2875.199951</td>\n",
              "      <td>2834.500000</td>\n",
              "      <td>2850.500000</td>\n",
              "      <td>2850.500000</td>\n",
              "      <td>4137882</td>\n",
              "    </tr>\n",
              "    <tr>\n",
              "      <th>2024-03-20</th>\n",
              "      <td>2855.899902</td>\n",
              "      <td>2890.000000</td>\n",
              "      <td>2848.050049</td>\n",
              "      <td>2887.500000</td>\n",
              "      <td>2887.500000</td>\n",
              "      <td>4244403</td>\n",
              "    </tr>\n",
              "    <tr>\n",
              "      <th>2024-03-21</th>\n",
              "      <td>2905.050049</td>\n",
              "      <td>2915.800049</td>\n",
              "      <td>2889.350098</td>\n",
              "      <td>2901.949951</td>\n",
              "      <td>2901.949951</td>\n",
              "      <td>6503468</td>\n",
              "    </tr>\n",
              "    <tr>\n",
              "      <th>2024-03-22</th>\n",
              "      <td>2899.949951</td>\n",
              "      <td>2920.000000</td>\n",
              "      <td>2894.699951</td>\n",
              "      <td>2910.050049</td>\n",
              "      <td>2910.050049</td>\n",
              "      <td>9763804</td>\n",
              "    </tr>\n",
              "  </tbody>\n",
              "</table>\n",
              "<p>3015 rows × 6 columns</p>\n",
              "</div>\n",
              "    <div class=\"colab-df-buttons\">\n",
              "\n",
              "  <div class=\"colab-df-container\">\n",
              "    <button class=\"colab-df-convert\" onclick=\"convertToInteractive('df-54d66768-d543-4db8-9dcc-c1acd2c8157f')\"\n",
              "            title=\"Convert this dataframe to an interactive table.\"\n",
              "            style=\"display:none;\">\n",
              "\n",
              "  <svg xmlns=\"http://www.w3.org/2000/svg\" height=\"24px\" viewBox=\"0 -960 960 960\">\n",
              "    <path d=\"M120-120v-720h720v720H120Zm60-500h600v-160H180v160Zm220 220h160v-160H400v160Zm0 220h160v-160H400v160ZM180-400h160v-160H180v160Zm440 0h160v-160H620v160ZM180-180h160v-160H180v160Zm440 0h160v-160H620v160Z\"/>\n",
              "  </svg>\n",
              "    </button>\n",
              "\n",
              "  <style>\n",
              "    .colab-df-container {\n",
              "      display:flex;\n",
              "      gap: 12px;\n",
              "    }\n",
              "\n",
              "    .colab-df-convert {\n",
              "      background-color: #E8F0FE;\n",
              "      border: none;\n",
              "      border-radius: 50%;\n",
              "      cursor: pointer;\n",
              "      display: none;\n",
              "      fill: #1967D2;\n",
              "      height: 32px;\n",
              "      padding: 0 0 0 0;\n",
              "      width: 32px;\n",
              "    }\n",
              "\n",
              "    .colab-df-convert:hover {\n",
              "      background-color: #E2EBFA;\n",
              "      box-shadow: 0px 1px 2px rgba(60, 64, 67, 0.3), 0px 1px 3px 1px rgba(60, 64, 67, 0.15);\n",
              "      fill: #174EA6;\n",
              "    }\n",
              "\n",
              "    .colab-df-buttons div {\n",
              "      margin-bottom: 4px;\n",
              "    }\n",
              "\n",
              "    [theme=dark] .colab-df-convert {\n",
              "      background-color: #3B4455;\n",
              "      fill: #D2E3FC;\n",
              "    }\n",
              "\n",
              "    [theme=dark] .colab-df-convert:hover {\n",
              "      background-color: #434B5C;\n",
              "      box-shadow: 0px 1px 3px 1px rgba(0, 0, 0, 0.15);\n",
              "      filter: drop-shadow(0px 1px 2px rgba(0, 0, 0, 0.3));\n",
              "      fill: #FFFFFF;\n",
              "    }\n",
              "  </style>\n",
              "\n",
              "    <script>\n",
              "      const buttonEl =\n",
              "        document.querySelector('#df-54d66768-d543-4db8-9dcc-c1acd2c8157f button.colab-df-convert');\n",
              "      buttonEl.style.display =\n",
              "        google.colab.kernel.accessAllowed ? 'block' : 'none';\n",
              "\n",
              "      async function convertToInteractive(key) {\n",
              "        const element = document.querySelector('#df-54d66768-d543-4db8-9dcc-c1acd2c8157f');\n",
              "        const dataTable =\n",
              "          await google.colab.kernel.invokeFunction('convertToInteractive',\n",
              "                                                    [key], {});\n",
              "        if (!dataTable) return;\n",
              "\n",
              "        const docLinkHtml = 'Like what you see? Visit the ' +\n",
              "          '<a target=\"_blank\" href=https://colab.research.google.com/notebooks/data_table.ipynb>data table notebook</a>'\n",
              "          + ' to learn more about interactive tables.';\n",
              "        element.innerHTML = '';\n",
              "        dataTable['output_type'] = 'display_data';\n",
              "        await google.colab.output.renderOutput(dataTable, element);\n",
              "        const docLink = document.createElement('div');\n",
              "        docLink.innerHTML = docLinkHtml;\n",
              "        element.appendChild(docLink);\n",
              "      }\n",
              "    </script>\n",
              "  </div>\n",
              "\n",
              "\n",
              "<div id=\"df-9e12beae-a020-48e4-bde0-d771ea513f4c\">\n",
              "  <button class=\"colab-df-quickchart\" onclick=\"quickchart('df-9e12beae-a020-48e4-bde0-d771ea513f4c')\"\n",
              "            title=\"Suggest charts\"\n",
              "            style=\"display:none;\">\n",
              "\n",
              "<svg xmlns=\"http://www.w3.org/2000/svg\" height=\"24px\"viewBox=\"0 0 24 24\"\n",
              "     width=\"24px\">\n",
              "    <g>\n",
              "        <path d=\"M19 3H5c-1.1 0-2 .9-2 2v14c0 1.1.9 2 2 2h14c1.1 0 2-.9 2-2V5c0-1.1-.9-2-2-2zM9 17H7v-7h2v7zm4 0h-2V7h2v10zm4 0h-2v-4h2v4z\"/>\n",
              "    </g>\n",
              "</svg>\n",
              "  </button>\n",
              "\n",
              "<style>\n",
              "  .colab-df-quickchart {\n",
              "      --bg-color: #E8F0FE;\n",
              "      --fill-color: #1967D2;\n",
              "      --hover-bg-color: #E2EBFA;\n",
              "      --hover-fill-color: #174EA6;\n",
              "      --disabled-fill-color: #AAA;\n",
              "      --disabled-bg-color: #DDD;\n",
              "  }\n",
              "\n",
              "  [theme=dark] .colab-df-quickchart {\n",
              "      --bg-color: #3B4455;\n",
              "      --fill-color: #D2E3FC;\n",
              "      --hover-bg-color: #434B5C;\n",
              "      --hover-fill-color: #FFFFFF;\n",
              "      --disabled-bg-color: #3B4455;\n",
              "      --disabled-fill-color: #666;\n",
              "  }\n",
              "\n",
              "  .colab-df-quickchart {\n",
              "    background-color: var(--bg-color);\n",
              "    border: none;\n",
              "    border-radius: 50%;\n",
              "    cursor: pointer;\n",
              "    display: none;\n",
              "    fill: var(--fill-color);\n",
              "    height: 32px;\n",
              "    padding: 0;\n",
              "    width: 32px;\n",
              "  }\n",
              "\n",
              "  .colab-df-quickchart:hover {\n",
              "    background-color: var(--hover-bg-color);\n",
              "    box-shadow: 0 1px 2px rgba(60, 64, 67, 0.3), 0 1px 3px 1px rgba(60, 64, 67, 0.15);\n",
              "    fill: var(--button-hover-fill-color);\n",
              "  }\n",
              "\n",
              "  .colab-df-quickchart-complete:disabled,\n",
              "  .colab-df-quickchart-complete:disabled:hover {\n",
              "    background-color: var(--disabled-bg-color);\n",
              "    fill: var(--disabled-fill-color);\n",
              "    box-shadow: none;\n",
              "  }\n",
              "\n",
              "  .colab-df-spinner {\n",
              "    border: 2px solid var(--fill-color);\n",
              "    border-color: transparent;\n",
              "    border-bottom-color: var(--fill-color);\n",
              "    animation:\n",
              "      spin 1s steps(1) infinite;\n",
              "  }\n",
              "\n",
              "  @keyframes spin {\n",
              "    0% {\n",
              "      border-color: transparent;\n",
              "      border-bottom-color: var(--fill-color);\n",
              "      border-left-color: var(--fill-color);\n",
              "    }\n",
              "    20% {\n",
              "      border-color: transparent;\n",
              "      border-left-color: var(--fill-color);\n",
              "      border-top-color: var(--fill-color);\n",
              "    }\n",
              "    30% {\n",
              "      border-color: transparent;\n",
              "      border-left-color: var(--fill-color);\n",
              "      border-top-color: var(--fill-color);\n",
              "      border-right-color: var(--fill-color);\n",
              "    }\n",
              "    40% {\n",
              "      border-color: transparent;\n",
              "      border-right-color: var(--fill-color);\n",
              "      border-top-color: var(--fill-color);\n",
              "    }\n",
              "    60% {\n",
              "      border-color: transparent;\n",
              "      border-right-color: var(--fill-color);\n",
              "    }\n",
              "    80% {\n",
              "      border-color: transparent;\n",
              "      border-right-color: var(--fill-color);\n",
              "      border-bottom-color: var(--fill-color);\n",
              "    }\n",
              "    90% {\n",
              "      border-color: transparent;\n",
              "      border-bottom-color: var(--fill-color);\n",
              "    }\n",
              "  }\n",
              "</style>\n",
              "\n",
              "  <script>\n",
              "    async function quickchart(key) {\n",
              "      const quickchartButtonEl =\n",
              "        document.querySelector('#' + key + ' button');\n",
              "      quickchartButtonEl.disabled = true;  // To prevent multiple clicks.\n",
              "      quickchartButtonEl.classList.add('colab-df-spinner');\n",
              "      try {\n",
              "        const charts = await google.colab.kernel.invokeFunction(\n",
              "            'suggestCharts', [key], {});\n",
              "      } catch (error) {\n",
              "        console.error('Error during call to suggestCharts:', error);\n",
              "      }\n",
              "      quickchartButtonEl.classList.remove('colab-df-spinner');\n",
              "      quickchartButtonEl.classList.add('colab-df-quickchart-complete');\n",
              "    }\n",
              "    (() => {\n",
              "      let quickchartButtonEl =\n",
              "        document.querySelector('#df-9e12beae-a020-48e4-bde0-d771ea513f4c button');\n",
              "      quickchartButtonEl.style.display =\n",
              "        google.colab.kernel.accessAllowed ? 'block' : 'none';\n",
              "    })();\n",
              "  </script>\n",
              "</div>\n",
              "\n",
              "  <div id=\"id_20a850da-6700-4cab-b14f-e88a7cb8163d\">\n",
              "    <style>\n",
              "      .colab-df-generate {\n",
              "        background-color: #E8F0FE;\n",
              "        border: none;\n",
              "        border-radius: 50%;\n",
              "        cursor: pointer;\n",
              "        display: none;\n",
              "        fill: #1967D2;\n",
              "        height: 32px;\n",
              "        padding: 0 0 0 0;\n",
              "        width: 32px;\n",
              "      }\n",
              "\n",
              "      .colab-df-generate:hover {\n",
              "        background-color: #E2EBFA;\n",
              "        box-shadow: 0px 1px 2px rgba(60, 64, 67, 0.3), 0px 1px 3px 1px rgba(60, 64, 67, 0.15);\n",
              "        fill: #174EA6;\n",
              "      }\n",
              "\n",
              "      [theme=dark] .colab-df-generate {\n",
              "        background-color: #3B4455;\n",
              "        fill: #D2E3FC;\n",
              "      }\n",
              "\n",
              "      [theme=dark] .colab-df-generate:hover {\n",
              "        background-color: #434B5C;\n",
              "        box-shadow: 0px 1px 3px 1px rgba(0, 0, 0, 0.15);\n",
              "        filter: drop-shadow(0px 1px 2px rgba(0, 0, 0, 0.3));\n",
              "        fill: #FFFFFF;\n",
              "      }\n",
              "    </style>\n",
              "    <button class=\"colab-df-generate\" onclick=\"generateWithVariable('data')\"\n",
              "            title=\"Generate code using this dataframe.\"\n",
              "            style=\"display:none;\">\n",
              "\n",
              "  <svg xmlns=\"http://www.w3.org/2000/svg\" height=\"24px\"viewBox=\"0 0 24 24\"\n",
              "       width=\"24px\">\n",
              "    <path d=\"M7,19H8.4L18.45,9,17,7.55,7,17.6ZM5,21V16.75L18.45,3.32a2,2,0,0,1,2.83,0l1.4,1.43a1.91,1.91,0,0,1,.58,1.4,1.91,1.91,0,0,1-.58,1.4L9.25,21ZM18.45,9,17,7.55Zm-12,3A5.31,5.31,0,0,0,4.9,8.1,5.31,5.31,0,0,0,1,6.5,5.31,5.31,0,0,0,4.9,4.9,5.31,5.31,0,0,0,6.5,1,5.31,5.31,0,0,0,8.1,4.9,5.31,5.31,0,0,0,12,6.5,5.46,5.46,0,0,0,6.5,12Z\"/>\n",
              "  </svg>\n",
              "    </button>\n",
              "    <script>\n",
              "      (() => {\n",
              "      const buttonEl =\n",
              "        document.querySelector('#id_20a850da-6700-4cab-b14f-e88a7cb8163d button.colab-df-generate');\n",
              "      buttonEl.style.display =\n",
              "        google.colab.kernel.accessAllowed ? 'block' : 'none';\n",
              "\n",
              "      buttonEl.onclick = () => {\n",
              "        google.colab.notebook.generateWithVariable('data');\n",
              "      }\n",
              "      })();\n",
              "    </script>\n",
              "  </div>\n",
              "\n",
              "    </div>\n",
              "  </div>\n"
            ],
            "application/vnd.google.colaboratory.intrinsic+json": {
              "type": "dataframe",
              "variable_name": "data",
              "summary": "{\n  \"name\": \"data\",\n  \"rows\": 3015,\n  \"fields\": [\n    {\n      \"column\": \"Date\",\n      \"properties\": {\n        \"dtype\": \"date\",\n        \"min\": \"2012-01-02 00:00:00\",\n        \"max\": \"2024-03-22 00:00:00\",\n        \"num_unique_values\": 3015,\n        \"samples\": [\n          \"2012-04-03 00:00:00\",\n          \"2022-11-21 00:00:00\",\n          \"2012-05-31 00:00:00\"\n        ],\n        \"semantic_type\": \"\",\n        \"description\": \"\"\n      }\n    },\n    {\n      \"column\": \"Open\",\n      \"properties\": {\n        \"dtype\": \"number\",\n        \"std\": 792.697564101251,\n        \"min\": 308.5872802734375,\n        \"max\": 3011.550048828125,\n        \"num_unique_values\": 2563,\n        \"samples\": [\n          1052.39697265625,\n          1935.484130859375,\n          1171.6259765625\n        ],\n        \"semantic_type\": \"\",\n        \"description\": \"\"\n      }\n    },\n    {\n      \"column\": \"High\",\n      \"properties\": {\n        \"dtype\": \"number\",\n        \"std\": 800.1404239725238,\n        \"min\": 312.1531982421875,\n        \"max\": 3024.89990234375,\n        \"num_unique_values\": 2708,\n        \"samples\": [\n          493.6939392089844,\n          391.9515686035156,\n          1442.405517578125\n        ],\n        \"semantic_type\": \"\",\n        \"description\": \"\"\n      }\n    },\n    {\n      \"column\": \"Low\",\n      \"properties\": {\n        \"dtype\": \"number\",\n        \"std\": 784.7092762463658,\n        \"min\": 307.6958312988281,\n        \"max\": 2974.449951171875,\n        \"num_unique_values\": 2722,\n        \"samples\": [\n          468.50408935546875,\n          410.3067932128906,\n          2099.82421875\n        ],\n        \"semantic_type\": \"\",\n        \"description\": \"\"\n      }\n    },\n    {\n      \"column\": \"Close\",\n      \"properties\": {\n        \"dtype\": \"number\",\n        \"std\": 792.220458333081,\n        \"min\": 309.0901794433594,\n        \"max\": 3014.800048828125,\n        \"num_unique_values\": 2867,\n        \"samples\": [\n          396.22607421875,\n          1150.184814453125,\n          402.4206848144531\n        ],\n        \"semantic_type\": \"\",\n        \"description\": \"\"\n      }\n    },\n    {\n      \"column\": \"Adj Close\",\n      \"properties\": {\n        \"dtype\": \"number\",\n        \"std\": 797.6747535651593,\n        \"min\": 281.48858642578125,\n        \"max\": 3014.800048828125,\n        \"num_unique_values\": 2942,\n        \"samples\": [\n          2041.9901123046875,\n          416.07489013671875,\n          1288.6741943359375\n        ],\n        \"semantic_type\": \"\",\n        \"description\": \"\"\n      }\n    },\n    {\n      \"column\": \"Volume\",\n      \"properties\": {\n        \"dtype\": \"number\",\n        \"std\": 6311635,\n        \"min\": 0,\n        \"max\": 71341683,\n        \"num_unique_values\": 3014,\n        \"samples\": [\n          5389051,\n          8555737,\n          4799908\n        ],\n        \"semantic_type\": \"\",\n        \"description\": \"\"\n      }\n    }\n  ]\n}"
            }
          },
          "metadata": {},
          "execution_count": 22
        }
      ]
    },
    {
      "cell_type": "code",
      "source": [
        "training_set = data.iloc[:, 1:2].values"
      ],
      "metadata": {
        "id": "A1UouhsiWoHL"
      },
      "execution_count": null,
      "outputs": []
    },
    {
      "cell_type": "code",
      "source": [
        "#training_set"
      ],
      "metadata": {
        "id": "DxY9HYugXd_i"
      },
      "execution_count": null,
      "outputs": []
    },
    {
      "cell_type": "code",
      "source": [
        "from sklearn.preprocessing import MinMaxScaler\n",
        "sc = MinMaxScaler(feature_range = (0, 1))\n",
        "training_set_scaled = sc.fit_transform(training_set)"
      ],
      "metadata": {
        "id": "1Z8PmhZLXiei"
      },
      "execution_count": null,
      "outputs": []
    },
    {
      "cell_type": "code",
      "source": [
        "X_train = []\n",
        "y_train = []\n",
        "for i in range(60, len(training_set_scaled)):\n",
        "    X_train.append(training_set_scaled[i-60:i, 0])\n",
        "    y_train.append(training_set_scaled[i, 0])\n",
        "X_train, y_train = np.array(X_train), np.array(y_train)"
      ],
      "metadata": {
        "id": "YzE4rvTmXtXj"
      },
      "execution_count": null,
      "outputs": []
    },
    {
      "cell_type": "code",
      "source": [
        "X_train = np.reshape(X_train, (X_train.shape[0], X_train.shape[1], 1))"
      ],
      "metadata": {
        "id": "xHbMgLzbXwZU"
      },
      "execution_count": null,
      "outputs": []
    },
    {
      "cell_type": "code",
      "source": [
        "from keras.models import Sequential\n",
        "from keras.layers import Dense\n",
        "from keras.layers import LSTM\n",
        "from keras.layers import Dropout"
      ],
      "metadata": {
        "id": "KJKgIIDkXyZ7"
      },
      "execution_count": null,
      "outputs": []
    },
    {
      "cell_type": "code",
      "source": [
        "regressor = Sequential()"
      ],
      "metadata": {
        "id": "sCqY49vfX1Q-"
      },
      "execution_count": null,
      "outputs": []
    },
    {
      "cell_type": "code",
      "source": [
        "regressor.add(LSTM(units = 50, return_sequences = True, input_shape = (X_train.shape[1], 1)))\n",
        "regressor.add(Dropout(0.2))"
      ],
      "metadata": {
        "id": "NE9GVuMwX2li"
      },
      "execution_count": null,
      "outputs": []
    },
    {
      "cell_type": "code",
      "source": [
        "regressor.add(LSTM(units = 50, return_sequences = True))\n",
        "regressor.add(Dropout(0.2))"
      ],
      "metadata": {
        "id": "dzfYSXFbX4ER"
      },
      "execution_count": null,
      "outputs": []
    },
    {
      "cell_type": "code",
      "source": [
        "regressor.add(LSTM(units = 50, return_sequences = True))\n",
        "regressor.add(Dropout(0.2))"
      ],
      "metadata": {
        "id": "3rH2XWGlX5HV"
      },
      "execution_count": null,
      "outputs": []
    },
    {
      "cell_type": "code",
      "source": [
        "regressor.add(LSTM(units = 50))\n",
        "regressor.add(Dropout(0.2))"
      ],
      "metadata": {
        "id": "ZqdGxEjHX6au"
      },
      "execution_count": null,
      "outputs": []
    },
    {
      "cell_type": "code",
      "source": [
        "regressor.add(Dense(units = 1))"
      ],
      "metadata": {
        "id": "h3_qBEK-X7x0"
      },
      "execution_count": null,
      "outputs": []
    },
    {
      "cell_type": "code",
      "source": [
        "regressor.compile(optimizer = 'adam', loss = 'mean_squared_error')"
      ],
      "metadata": {
        "id": "GpEUa2p-X9Cz"
      },
      "execution_count": null,
      "outputs": []
    },
    {
      "cell_type": "code",
      "source": [
        "regressor.fit(X_train, y_train, epochs = num_epochs, batch_size = 32)"
      ],
      "metadata": {
        "colab": {
          "base_uri": "https://localhost:8080/"
        },
        "id": "MWV3IzbCX-ON",
        "outputId": "94eaaf8a-09eb-4b2d-c3fb-cee83cae14c2"
      },
      "execution_count": null,
      "outputs": [
        {
          "output_type": "stream",
          "name": "stdout",
          "text": [
            "Epoch 1/100\n",
            "93/93 [==============================] - 17s 111ms/step - loss: 0.0128\n",
            "Epoch 2/100\n",
            "93/93 [==============================] - 10s 110ms/step - loss: 0.0028\n",
            "Epoch 3/100\n",
            "93/93 [==============================] - 10s 109ms/step - loss: 0.0028\n",
            "Epoch 4/100\n",
            "93/93 [==============================] - 10s 111ms/step - loss: 0.0024\n",
            "Epoch 5/100\n",
            "93/93 [==============================] - 10s 101ms/step - loss: 0.0023\n",
            "Epoch 6/100\n",
            "93/93 [==============================] - 10s 110ms/step - loss: 0.0023\n",
            "Epoch 7/100\n",
            "93/93 [==============================] - 11s 122ms/step - loss: 0.0018\n",
            "Epoch 8/100\n",
            "93/93 [==============================] - 10s 110ms/step - loss: 0.0021\n",
            "Epoch 9/100\n",
            "93/93 [==============================] - 10s 111ms/step - loss: 0.0020\n",
            "Epoch 10/100\n",
            "93/93 [==============================] - 9s 98ms/step - loss: 0.0020\n",
            "Epoch 11/100\n",
            "93/93 [==============================] - 10s 110ms/step - loss: 0.0018\n",
            "Epoch 12/100\n",
            "93/93 [==============================] - 10s 111ms/step - loss: 0.0018\n",
            "Epoch 13/100\n",
            "93/93 [==============================] - 10s 109ms/step - loss: 0.0016\n",
            "Epoch 14/100\n",
            "93/93 [==============================] - 10s 104ms/step - loss: 0.0015\n",
            "Epoch 15/100\n",
            "93/93 [==============================] - 10s 105ms/step - loss: 0.0015\n",
            "Epoch 16/100\n",
            "93/93 [==============================] - 10s 111ms/step - loss: 0.0015\n",
            "Epoch 17/100\n",
            "93/93 [==============================] - 10s 111ms/step - loss: 0.0015\n",
            "Epoch 18/100\n",
            "93/93 [==============================] - 10s 112ms/step - loss: 0.0013\n",
            "Epoch 19/100\n",
            "93/93 [==============================] - 10s 103ms/step - loss: 0.0013\n",
            "Epoch 20/100\n",
            "93/93 [==============================] - 10s 106ms/step - loss: 0.0014\n",
            "Epoch 21/100\n",
            "93/93 [==============================] - 10s 111ms/step - loss: 0.0015\n",
            "Epoch 22/100\n",
            "93/93 [==============================] - 10s 110ms/step - loss: 0.0013\n",
            "Epoch 23/100\n",
            "93/93 [==============================] - 10s 110ms/step - loss: 0.0013\n",
            "Epoch 24/100\n",
            "93/93 [==============================] - 9s 99ms/step - loss: 0.0012\n",
            "Epoch 25/100\n",
            "93/93 [==============================] - 10s 111ms/step - loss: 0.0012\n",
            "Epoch 26/100\n",
            "93/93 [==============================] - 10s 111ms/step - loss: 0.0012\n",
            "Epoch 27/100\n",
            "93/93 [==============================] - 10s 110ms/step - loss: 0.0012\n",
            "Epoch 28/100\n",
            "93/93 [==============================] - 10s 112ms/step - loss: 0.0011\n",
            "Epoch 29/100\n",
            "93/93 [==============================] - 10s 104ms/step - loss: 0.0013\n",
            "Epoch 30/100\n",
            "93/93 [==============================] - 11s 116ms/step - loss: 0.0012\n",
            "Epoch 31/100\n",
            "93/93 [==============================] - 11s 114ms/step - loss: 0.0013\n",
            "Epoch 32/100\n",
            "93/93 [==============================] - 11s 113ms/step - loss: 0.0012\n",
            "Epoch 33/100\n",
            "93/93 [==============================] - 10s 113ms/step - loss: 0.0011\n",
            "Epoch 34/100\n",
            "93/93 [==============================] - 10s 104ms/step - loss: 0.0012\n",
            "Epoch 35/100\n",
            "93/93 [==============================] - 18s 198ms/step - loss: 0.0011\n",
            "Epoch 36/100\n",
            "93/93 [==============================] - 11s 114ms/step - loss: 0.0011\n",
            "Epoch 37/100\n",
            "93/93 [==============================] - 10s 102ms/step - loss: 0.0010\n",
            "Epoch 38/100\n",
            "93/93 [==============================] - 10s 109ms/step - loss: 0.0010\n",
            "Epoch 39/100\n",
            "93/93 [==============================] - 10s 111ms/step - loss: 0.0010\n",
            "Epoch 40/100\n",
            "93/93 [==============================] - 10s 112ms/step - loss: 0.0011\n",
            "Epoch 41/100\n",
            "93/93 [==============================] - 10s 112ms/step - loss: 0.0011\n",
            "Epoch 42/100\n",
            "93/93 [==============================] - 9s 102ms/step - loss: 0.0010\n",
            "Epoch 43/100\n",
            "93/93 [==============================] - 11s 118ms/step - loss: 9.5731e-04\n",
            "Epoch 44/100\n",
            "93/93 [==============================] - 11s 115ms/step - loss: 0.0010\n",
            "Epoch 45/100\n",
            "93/93 [==============================] - 10s 112ms/step - loss: 0.0011\n",
            "Epoch 46/100\n",
            "93/93 [==============================] - 10s 112ms/step - loss: 9.8205e-04\n",
            "Epoch 47/100\n",
            "93/93 [==============================] - 10s 106ms/step - loss: 0.0011\n",
            "Epoch 48/100\n",
            "93/93 [==============================] - 10s 104ms/step - loss: 0.0010\n",
            "Epoch 49/100\n",
            "93/93 [==============================] - 10s 112ms/step - loss: 0.0011\n",
            "Epoch 50/100\n",
            "93/93 [==============================] - 11s 113ms/step - loss: 0.0010\n",
            "Epoch 51/100\n",
            "93/93 [==============================] - 11s 113ms/step - loss: 0.0011\n",
            "Epoch 52/100\n",
            "93/93 [==============================] - 10s 108ms/step - loss: 9.4598e-04\n",
            "Epoch 53/100\n",
            "93/93 [==============================] - 10s 104ms/step - loss: 9.1546e-04\n",
            "Epoch 54/100\n",
            "93/93 [==============================] - 10s 112ms/step - loss: 9.4213e-04\n",
            "Epoch 55/100\n",
            "93/93 [==============================] - 10s 113ms/step - loss: 8.9061e-04\n",
            "Epoch 56/100\n",
            "93/93 [==============================] - 10s 111ms/step - loss: 8.8875e-04\n",
            "Epoch 57/100\n",
            "93/93 [==============================] - 10s 106ms/step - loss: 8.9736e-04\n",
            "Epoch 58/100\n",
            "93/93 [==============================] - 10s 105ms/step - loss: 8.4186e-04\n",
            "Epoch 59/100\n",
            "93/93 [==============================] - 10s 111ms/step - loss: 9.6902e-04\n",
            "Epoch 60/100\n",
            "93/93 [==============================] - 10s 112ms/step - loss: 9.1164e-04\n",
            "Epoch 61/100\n",
            "93/93 [==============================] - 10s 112ms/step - loss: 9.6402e-04\n",
            "Epoch 62/100\n",
            "93/93 [==============================] - 10s 109ms/step - loss: 8.6505e-04\n",
            "Epoch 63/100\n",
            "93/93 [==============================] - 10s 103ms/step - loss: 0.0010\n",
            "Epoch 64/100\n",
            "93/93 [==============================] - 10s 111ms/step - loss: 8.6620e-04\n",
            "Epoch 65/100\n",
            "93/93 [==============================] - 10s 111ms/step - loss: 8.8981e-04\n",
            "Epoch 66/100\n",
            "93/93 [==============================] - 10s 112ms/step - loss: 9.6697e-04\n",
            "Epoch 67/100\n",
            "93/93 [==============================] - 10s 109ms/step - loss: 9.6668e-04\n",
            "Epoch 68/100\n",
            "93/93 [==============================] - 10s 104ms/step - loss: 8.4723e-04\n",
            "Epoch 69/100\n",
            "93/93 [==============================] - 10s 111ms/step - loss: 8.0711e-04\n",
            "Epoch 70/100\n",
            "93/93 [==============================] - 11s 115ms/step - loss: 8.8755e-04\n",
            "Epoch 71/100\n",
            "93/93 [==============================] - 11s 114ms/step - loss: 8.3287e-04\n",
            "Epoch 72/100\n",
            "93/93 [==============================] - 10s 111ms/step - loss: 8.6542e-04\n",
            "Epoch 73/100\n",
            "93/93 [==============================] - 10s 104ms/step - loss: 8.6024e-04\n",
            "Epoch 74/100\n",
            "93/93 [==============================] - 11s 114ms/step - loss: 9.6971e-04\n",
            "Epoch 75/100\n",
            "93/93 [==============================] - 11s 114ms/step - loss: 8.1675e-04\n",
            "Epoch 76/100\n",
            "93/93 [==============================] - 11s 115ms/step - loss: 8.3143e-04\n",
            "Epoch 77/100\n",
            "93/93 [==============================] - 11s 114ms/step - loss: 8.3482e-04\n",
            "Epoch 78/100\n",
            "93/93 [==============================] - 9s 102ms/step - loss: 8.0511e-04\n",
            "Epoch 79/100\n",
            "93/93 [==============================] - 11s 113ms/step - loss: 8.7125e-04\n",
            "Epoch 80/100\n",
            "93/93 [==============================] - 10s 112ms/step - loss: 8.0716e-04\n",
            "Epoch 81/100\n",
            "93/93 [==============================] - 10s 113ms/step - loss: 8.8215e-04\n",
            "Epoch 82/100\n",
            "93/93 [==============================] - 10s 112ms/step - loss: 8.3527e-04\n",
            "Epoch 83/100\n",
            "93/93 [==============================] - 10s 102ms/step - loss: 8.6656e-04\n",
            "Epoch 84/100\n",
            "93/93 [==============================] - 10s 111ms/step - loss: 8.2758e-04\n",
            "Epoch 85/100\n",
            "93/93 [==============================] - 11s 114ms/step - loss: 8.5059e-04\n",
            "Epoch 86/100\n",
            "93/93 [==============================] - 11s 113ms/step - loss: 8.8720e-04\n",
            "Epoch 87/100\n",
            "93/93 [==============================] - 11s 113ms/step - loss: 7.3175e-04\n",
            "Epoch 88/100\n",
            "93/93 [==============================] - 10s 104ms/step - loss: 8.2172e-04\n",
            "Epoch 89/100\n",
            "93/93 [==============================] - 10s 108ms/step - loss: 8.4166e-04\n",
            "Epoch 90/100\n",
            "93/93 [==============================] - 10s 113ms/step - loss: 7.9397e-04\n",
            "Epoch 91/100\n",
            "93/93 [==============================] - 10s 113ms/step - loss: 8.3455e-04\n",
            "Epoch 92/100\n",
            "93/93 [==============================] - 10s 112ms/step - loss: 8.4539e-04\n",
            "Epoch 93/100\n",
            "93/93 [==============================] - 10s 106ms/step - loss: 7.7461e-04\n",
            "Epoch 94/100\n",
            "93/93 [==============================] - 10s 109ms/step - loss: 7.0009e-04\n",
            "Epoch 95/100\n",
            "93/93 [==============================] - 11s 114ms/step - loss: 8.4674e-04\n",
            "Epoch 96/100\n",
            "93/93 [==============================] - 11s 113ms/step - loss: 7.8509e-04\n",
            "Epoch 97/100\n",
            "93/93 [==============================] - 10s 113ms/step - loss: 7.6005e-04\n",
            "Epoch 98/100\n",
            "93/93 [==============================] - 10s 104ms/step - loss: 8.4835e-04\n",
            "Epoch 99/100\n",
            "93/93 [==============================] - 10s 106ms/step - loss: 7.1637e-04\n",
            "Epoch 100/100\n",
            "93/93 [==============================] - 10s 112ms/step - loss: 7.6226e-04\n"
          ]
        },
        {
          "output_type": "execute_result",
          "data": {
            "text/plain": [
              "<keras.src.callbacks.History at 0x7e89d0181e70>"
            ]
          },
          "metadata": {},
          "execution_count": 36
        }
      ]
    },
    {
      "cell_type": "code",
      "source": [
        "dataset_total = data['Open']\n",
        "inputs = dataset_total[len(dataset_total) - num_day_to_predict - 60:].values\n",
        "inputs = inputs.reshape(-1,1)\n",
        "inputs = sc.transform(inputs)\n",
        "X_test = []\n",
        "for i in range(60, (60 + num_day_to_predict)):\n",
        "    X_test.append(inputs[i-60:i, 0])\n",
        "X_test = np.array(X_test)\n",
        "X_test = np.reshape(X_test, (X_test.shape[0], X_test.shape[1], 1))\n",
        "predicted_stock_price = regressor.predict(X_test)\n",
        "predicted_stock_price = sc.inverse_transform(predicted_stock_price)"
      ],
      "metadata": {
        "colab": {
          "base_uri": "https://localhost:8080/"
        },
        "id": "Wr_ozppoYHC-",
        "outputId": "e772edda-117c-46a8-9863-1181f3819fd1"
      },
      "execution_count": null,
      "outputs": [
        {
          "output_type": "stream",
          "name": "stdout",
          "text": [
            "1/1 [==============================] - 1s 1s/step\n"
          ]
        }
      ]
    },
    {
      "cell_type": "code",
      "source": [
        "plt.plot(predicted_stock_price, color = 'blue', label = 'Predicted Stock Price')\n",
        "plt.title('Stock Price Prediction')\n",
        "plt.xlabel('Time')\n",
        "plt.ylabel('Stock Price')\n",
        "plt.legend()\n",
        "plt.show()"
      ],
      "metadata": {
        "colab": {
          "base_uri": "https://localhost:8080/"
        },
        "id": "39wf1aouYhgH",
        "outputId": "a6bb3e3c-4182-41e2-9f13-f4768a7e89dc"
      },
      "execution_count": null,
      "outputs": [
        {
          "output_type": "display_data",
          "data": {
            "text/plain": [
              "<Figure size 640x480 with 1 Axes>"
            ],
            "image/png": "[encoded data removed]"
          },
          "metadata": {}
        }
      ]
    }
  ]
}